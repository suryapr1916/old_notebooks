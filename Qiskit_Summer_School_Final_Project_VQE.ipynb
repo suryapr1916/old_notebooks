{
  "nbformat": 4,
  "nbformat_minor": 0,
  "metadata": {
    "kernelspec": {
      "display_name": "Python 3",
      "language": "python",
      "name": "python3"
    },
    "language_info": {
      "codemirror_mode": {
        "name": "ipython",
        "version": 3
      },
      "file_extension": ".py",
      "mimetype": "text/x-python",
      "name": "python",
      "nbconvert_exporter": "python",
      "pygments_lexer": "ipython3",
      "version": "3.7.8"
    },
    "colab": {
      "name": "Qiskit Summer School Final Project VQE_rishi.ipynb",
      "provenance": []
    }
  },
  "cells": [
    {
      "cell_type": "code",
      "metadata": {
        "id": "v3DVgcyl4KGf",
        "colab": {
          "base_uri": "https://localhost:8080/",
          "height": 367
        },
        "outputId": "0ff7e2a6-5f93-4e4b-a9de-5c6b621ed4e7"
      },
      "source": [
        "from qiskit import BasicAer, Aer, IBMQ\n",
        "from qiskit.aqua import QuantumInstance, aqua_globals\n",
        "from qiskit.aqua.algorithms import VQE, ExactEigensolver, NumPyEigensolver\n",
        "from qiskit.aqua.components.initial_states import Zero\n",
        "from qiskit.aqua.components.optimizers import COBYLA, L_BFGS_B, SLSQP, SPSA\n",
        "from qiskit.aqua.components.variational_forms import RY, RYRZ, SwapRZ\n",
        "from qiskit.aqua.operators import WeightedPauliOperator, Z2Symmetries\n",
        "from qiskit.chemistry import FermionicOperator\n",
        "from qiskit.chemistry.drivers import PySCFDriver, UnitsType\n",
        "from qiskit.chemistry.components.variational_forms import UCCSD\n",
        "from qiskit.chemistry.components.initial_states import HartreeFock\n",
        "\n",
        "from qiskit.providers.aer import QasmSimulator\n",
        "from qiskit.providers.aer.noise import NoiseModel\n",
        "from qiskit.providers.aer.noise.errors import QuantumError, ReadoutError\n",
        "from qiskit.providers.aer.noise.errors import pauli_error\n",
        "from qiskit.providers.aer.noise.errors import depolarizing_error\n",
        "from qiskit.providers.aer.noise.errors import thermal_relaxation_error\n",
        "\n",
        "from qiskit.providers.aer import noise\n",
        "provider = IBMQ.load_account()\n",
        "\n",
        "import numpy as np\n",
        "import matplotlib.pyplot as plt\n",
        "from functools import partial\n",
        "\n",
        "import warnings\n",
        "warnings.filterwarnings(\"ignore\")"
      ],
      "execution_count": null,
      "outputs": [
        {
          "output_type": "error",
          "ename": "ModuleNotFoundError",
          "evalue": "ignored",
          "traceback": [
            "\u001b[0;31m---------------------------------------------------------------------------\u001b[0m",
            "\u001b[0;31mModuleNotFoundError\u001b[0m                       Traceback (most recent call last)",
            "\u001b[0;32m<ipython-input-1-c5397f8e431d>\u001b[0m in \u001b[0;36m<module>\u001b[0;34m()\u001b[0m\n\u001b[0;32m----> 1\u001b[0;31m \u001b[0;32mfrom\u001b[0m \u001b[0mqiskit\u001b[0m \u001b[0;32mimport\u001b[0m \u001b[0mBasicAer\u001b[0m\u001b[0;34m,\u001b[0m \u001b[0mAer\u001b[0m\u001b[0;34m,\u001b[0m \u001b[0mIBMQ\u001b[0m\u001b[0;34m\u001b[0m\u001b[0;34m\u001b[0m\u001b[0m\n\u001b[0m\u001b[1;32m      2\u001b[0m \u001b[0;32mfrom\u001b[0m \u001b[0mqiskit\u001b[0m\u001b[0;34m.\u001b[0m\u001b[0maqua\u001b[0m \u001b[0;32mimport\u001b[0m \u001b[0mQuantumInstance\u001b[0m\u001b[0;34m,\u001b[0m \u001b[0maqua_globals\u001b[0m\u001b[0;34m\u001b[0m\u001b[0;34m\u001b[0m\u001b[0m\n\u001b[1;32m      3\u001b[0m \u001b[0;32mfrom\u001b[0m \u001b[0mqiskit\u001b[0m\u001b[0;34m.\u001b[0m\u001b[0maqua\u001b[0m\u001b[0;34m.\u001b[0m\u001b[0malgorithms\u001b[0m \u001b[0;32mimport\u001b[0m \u001b[0mVQE\u001b[0m\u001b[0;34m,\u001b[0m \u001b[0mExactEigensolver\u001b[0m\u001b[0;34m,\u001b[0m \u001b[0mNumPyEigensolver\u001b[0m\u001b[0;34m\u001b[0m\u001b[0;34m\u001b[0m\u001b[0m\n\u001b[1;32m      4\u001b[0m \u001b[0;32mfrom\u001b[0m \u001b[0mqiskit\u001b[0m\u001b[0;34m.\u001b[0m\u001b[0maqua\u001b[0m\u001b[0;34m.\u001b[0m\u001b[0mcomponents\u001b[0m\u001b[0;34m.\u001b[0m\u001b[0minitial_states\u001b[0m \u001b[0;32mimport\u001b[0m \u001b[0mZero\u001b[0m\u001b[0;34m\u001b[0m\u001b[0;34m\u001b[0m\u001b[0m\n\u001b[1;32m      5\u001b[0m \u001b[0;32mfrom\u001b[0m \u001b[0mqiskit\u001b[0m\u001b[0;34m.\u001b[0m\u001b[0maqua\u001b[0m\u001b[0;34m.\u001b[0m\u001b[0mcomponents\u001b[0m\u001b[0;34m.\u001b[0m\u001b[0moptimizers\u001b[0m \u001b[0;32mimport\u001b[0m \u001b[0mCOBYLA\u001b[0m\u001b[0;34m,\u001b[0m \u001b[0mL_BFGS_B\u001b[0m\u001b[0;34m,\u001b[0m \u001b[0mSLSQP\u001b[0m\u001b[0;34m,\u001b[0m \u001b[0mSPSA\u001b[0m\u001b[0;34m\u001b[0m\u001b[0;34m\u001b[0m\u001b[0m\n",
            "\u001b[0;31mModuleNotFoundError\u001b[0m: No module named 'qiskit'",
            "",
            "\u001b[0;31m---------------------------------------------------------------------------\u001b[0;32m\nNOTE: If your import is failing due to a missing package, you can\nmanually install dependencies using either !pip or !apt.\n\nTo view examples of installing some common dependencies, click the\n\"Open Examples\" button below.\n\u001b[0;31m---------------------------------------------------------------------------\u001b[0m\n"
          ]
        }
      ]
    },
    {
      "cell_type": "code",
      "metadata": {
        "id": "p6wTObnQ4KGk",
        "colab": {
          "base_uri": "https://localhost:8080/",
          "height": 299
        },
        "outputId": "fa739cdc-4ec1-49bf-8760-7e96f442e027"
      },
      "source": [
        "from qiskit.ignis.mitigation.measurement import CompleteMeasFitter"
      ],
      "execution_count": null,
      "outputs": [
        {
          "output_type": "error",
          "ename": "ModuleNotFoundError",
          "evalue": "ignored",
          "traceback": [
            "\u001b[0;31m---------------------------------------------------------------------------\u001b[0m",
            "\u001b[0;31mModuleNotFoundError\u001b[0m                       Traceback (most recent call last)",
            "\u001b[0;32m<ipython-input-2-68b53e2bffeb>\u001b[0m in \u001b[0;36m<module>\u001b[0;34m()\u001b[0m\n\u001b[0;32m----> 1\u001b[0;31m \u001b[0;32mfrom\u001b[0m \u001b[0mqiskit\u001b[0m\u001b[0;34m.\u001b[0m\u001b[0mignis\u001b[0m\u001b[0;34m.\u001b[0m\u001b[0mmitigation\u001b[0m\u001b[0;34m.\u001b[0m\u001b[0mmeasurement\u001b[0m \u001b[0;32mimport\u001b[0m \u001b[0mCompleteMeasFitter\u001b[0m\u001b[0;34m\u001b[0m\u001b[0;34m\u001b[0m\u001b[0m\n\u001b[0m",
            "\u001b[0;31mModuleNotFoundError\u001b[0m: No module named 'qiskit'",
            "",
            "\u001b[0;31m---------------------------------------------------------------------------\u001b[0;32m\nNOTE: If your import is failing due to a missing package, you can\nmanually install dependencies using either !pip or !apt.\n\nTo view examples of installing some common dependencies, click the\n\"Open Examples\" button below.\n\u001b[0;31m---------------------------------------------------------------------------\u001b[0m\n"
          ]
        }
      ]
    },
    {
      "cell_type": "markdown",
      "metadata": {
        "id": "BJGOpDMw4KGm"
      },
      "source": [
        "# Qiskit Summer School Final Project: VQE\n",
        "\n",
        "#### For this optional final challenge, you will be designing your own implementation of a variational quantum eigensolver (VQE) algorithm that simulates the ground state energy of the Lithium Hydride (LiH) molecule. Through out this challenge, you will be able to make choices on how you want to compose your simulation and what is the final deliverable that you want to showcase to your classmates and friends."
      ]
    },
    {
      "cell_type": "markdown",
      "metadata": {
        "id": "gDYaAx5f4KGn"
      },
      "source": [
        "# Defining your molecule:\n",
        "In this challenge we will focus on LiH using the sto3g basis with the PySCF driver, which can be described in Qiskit as follows, where 'inter_dist' is the interatomic distance."
      ]
    },
    {
      "cell_type": "code",
      "metadata": {
        "id": "SkLVQbrN4KGn"
      },
      "source": [
        "inter_dist = np.arange(0.5, 4.0, 0.05)\n",
        "driver = PySCFDriver(atom='Li .0 .0 .0; H .0 .0' + str(inter_dist), unit=UnitsType.ANGSTROM, charge=0, spin=0, basis='sto3g')"
      ],
      "execution_count": null,
      "outputs": []
    },
    {
      "cell_type": "markdown",
      "metadata": {
        "id": "aPBOn6SL4KGp"
      },
      "source": [
        "We also setup the molecular orbitals to be considered and can reduce the problem size when we map to the qubit Hamiltonian so the amount of time required for the simulations are reasonable for a laptop computer."
      ]
    },
    {
      "cell_type": "code",
      "metadata": {
        "id": "Li1j6NuM4KGq"
      },
      "source": [
        "# please be aware that the idx here with respective to original idx\n",
        "freeze_list = [0]\n",
        "remove_list = [-3, -2] # negative number denotes the reverse order"
      ],
      "execution_count": null,
      "outputs": []
    },
    {
      "cell_type": "markdown",
      "metadata": {
        "id": "Ph5gsL4p4KGs"
      },
      "source": [
        "#### Once you have computed the qubit operations for LiH, you can use the following function to classical solve for the exact solution. This is used just to compare how well your VQE approximation is performing."
      ]
    },
    {
      "cell_type": "code",
      "metadata": {
        "id": "NUP9T2JI4KGt"
      },
      "source": [
        "#Classically solve for the lowest eigenvalue\n",
        "def exact_solver(qubitOp):\n",
        "    ee = ExactEigensolver(qubitOp)\n",
        "    result = ee.run()\n",
        "    ref = result['energy']\n",
        "    print('Reference value: {}'.format(ref))\n",
        "    return ref"
      ],
      "execution_count": null,
      "outputs": []
    },
    {
      "cell_type": "markdown",
      "metadata": {
        "id": "_55_v83j4KGv"
      },
      "source": [
        "Here we ask you to use the `statevector_simulator` as the simulation backend for your VQE algorithm."
      ]
    },
    {
      "cell_type": "code",
      "metadata": {
        "id": "EPDvINAa4KGw"
      },
      "source": [
        "backend = BasicAer.get_backend('statevector_simulator')"
      ],
      "execution_count": null,
      "outputs": []
    },
    {
      "cell_type": "markdown",
      "metadata": {
        "id": "azJzw2hJ4KGy"
      },
      "source": [
        "### Now you can start choosing the components that make up your VQE algorithm!\n",
        "\n",
        "#### 1. Optimizers\n",
        "The most commonly used optimizers are `COBYLA`, `L_BFGS_B`, `SLSQP` and `SPSA`. \n",
        "\n",
        "#### 2. Qubit mapping\n",
        "There are several different mappings for your qubit Hamiltonian, `parity`, `bravyi_kitaev`, `jordan_wigner`, which in some cases can allow you to further reduce the problem size.\n",
        "\n",
        "#### 3. Initial state\n",
        "There are different initial state that you can choose to start your simulation. Typically people choose from the zero state \n",
        "`init_state = Zero(qubitOp.num_qubits)` \n",
        "and the UCCSD initial state\n",
        "`HartreeFock(qubitOp.num_qubits, num_spin_orbitals, num_particles, map_type, qubit_reduction)`\n",
        "\n",
        "#### 4. Parameterized circuit\n",
        "There are different choices you can make on the form of variational forms of your parameterized circuit.\n",
        "\n",
        "`UCCSD_var_form = UCCSD(num_qubits, depth=depth, num_orbitals=num_spin_orbitals, num_particles=num_particles)`\n",
        "    \n",
        "`RY_var_form = RY(num_qubits, depth=depth)`\n",
        "    \n",
        "`RYRZ_var_form = RYRZ(num_qubits, depth=depth)`\n",
        "    \n",
        "`swaprz_var_form = SwapRZ(num_qubits, depth=depth)`\n",
        "\n",
        "#### 5. Simulation backend\n",
        "There are different simulation backends that you can use to perform your simulation\n",
        "\n",
        "`backend = BasicAer.get_backend('statevector_simulator')`\n",
        "\n",
        "`backend=Aer.get_backend('qasm_simulator')`"
      ]
    },
    {
      "cell_type": "markdown",
      "metadata": {
        "id": "WDF77BNX4KGz"
      },
      "source": [
        "### Compare the convergence of different choices for building your VQE algorithm\n",
        "\n",
        "Among the above choices, which combination do you think would out perform others and give you the lowest estimation of LiH ground state energy with the quickest convergence? Compare the results of different combinations against each other and against the classically computed exact solution at a fixed interatomic distance, for example `inter_dist=1.6`. \n",
        "\n",
        "To access the intermediate data during the optimization, you would need to utilize the `callback` option in the VQE function:\n",
        "\n",
        "`def store_intermediate_result(eval_count, parameters, mean, std):\n",
        "            counts.append(eval_count)\n",
        "            values.append(mean)\n",
        "            params.append(parameters)\n",
        "            deviation.append(std)`\n",
        "            \n",
        "`algo = VQE(qubitOp, var_form, optimizer, callback=store_intermediate_result)`\n",
        "\n",
        "`algo_result = algo.run(quantum_instance)`\n",
        "\n",
        "An example of comparing the performance of different optimizers while using the RY variational ansatz could like the following:\n",
        "![RY_error.png](attachment:RY_error.png)\n",
        "![RY_convergence.png](attachment:RY_convergence.png)"
      ]
    },
    {
      "cell_type": "code",
      "metadata": {
        "id": "w3I4S8Y44KG0"
      },
      "source": [
        "counts = []\n",
        "values = []\n",
        "params = []\n",
        "deviation = []\n",
        "\n",
        "def store_intermediate_result(eval_count, parameters, mean, std):\n",
        "            counts.append(eval_count)\n",
        "            values.append(mean)\n",
        "            params.append(parameters)\n",
        "            deviation.append(std)"
      ],
      "execution_count": null,
      "outputs": []
    },
    {
      "cell_type": "markdown",
      "metadata": {
        "id": "f4bnvu6-4KG2"
      },
      "source": [
        "### Compute the ground state energy of LiH at various different interatomic distances\n",
        "By changing the parameter `inter_dist`, you can use your VQE algorithm to calculate the ground state energy of LiH at various interatomic distances, and potentially produce a plot as you are seeing here. Note that the VQE results are very close to the exact results, and so the exact energy curve is hidden by the VQE curve.\n",
        "<img src=\"attachment:VQE_dist.png\" width=\"600\">"
      ]
    },
    {
      "cell_type": "markdown",
      "metadata": {
        "id": "GGAVq9oo4KG3"
      },
      "source": [
        "### How does your VQE algorithm perform in the presence of noise?\n",
        "Trying importing the noise model and qubit coupling map of a real IBM quantum device into your simulation. You can use the imported noise model in your simulation by passing it into your quantum instance. You can also try enabling error mitigation in order to lower the effect of noise on your simulation results."
      ]
    },
    {
      "cell_type": "code",
      "metadata": {
        "id": "r58ogAZI4KG3"
      },
      "source": [
        "#Define our noise model based on the ibmq_essex chip\n",
        "chip_name = 'ibmq_essex'\n",
        "device = provider.get_backend(chip_name)\n",
        "coupling_map = device.configuration().coupling_map\n",
        "noise_model = noise.device.basic_device_noise_model(device.properties())\n",
        "basis_gates = noise_model.basis_gates"
      ],
      "execution_count": null,
      "outputs": []
    },
    {
      "cell_type": "markdown",
      "metadata": {
        "id": "40DrBxKB4KG5"
      },
      "source": [
        "An example of comparing the energy convergence of using SPSA and COBYLA with the ibmq_essex noise model could look like the following\n",
        "![noise.png](attachment:noise.png)"
      ]
    },
    {
      "cell_type": "markdown",
      "metadata": {
        "id": "l77MEH3z4KG6"
      },
      "source": [
        "### Now given the choices you have made above, try writing your own VQE algorithm in Qiskit. You can find an example of using Qiskit to simuate molecules with VQE [here](https://qiskit.org/textbook/ch-applications/vqe-molecules.html)."
      ]
    },
    {
      "cell_type": "code",
      "metadata": {
        "id": "v-tTTBLT4KG6"
      },
      "source": [
        ""
      ],
      "execution_count": null,
      "outputs": []
    },
    {
      "cell_type": "code",
      "metadata": {
        "id": "ow2Wdvse4KG8"
      },
      "source": [
        "# Classically solve for the lowest eigenvalue\n",
        "# This is used just to compare how well you VQE approximation is performing\n",
        "def exact_solver(qubitOp):\n",
        "    ee = ExactEigensolver(qubitOp)\n",
        "    result = ee.run()\n",
        "    ref = result['energy']\n",
        "    print('Reference value: {}'.format(ref))\n",
        "    return ref\n",
        "\n",
        "# Define your function for computing the qubit operations of LiH\n",
        "def compute_LiH_qubitOp(dist):\n",
        "    \n",
        "    driver = PySCFDriver(atom=\"Li .0 .0 .0; H .0 .0 \" + str(dist), unit=UnitsType.ANGSTROM, \n",
        "                         charge=0, spin=0, basis='sto3g')\n",
        "    molecule = driver.run()\n",
        "    freeze_list = [0]\n",
        "    remove_list = [-3, -2]\n",
        "    repulsion_energy = molecule.nuclear_repulsion_energy\n",
        "    num_particles = molecule.num_alpha + molecule.num_beta\n",
        "    num_spin_orbitals = molecule.num_orbitals * 2\n",
        "    remove_list = [x % molecule.num_orbitals for x in remove_list]\n",
        "    freeze_list = [x % molecule.num_orbitals for x in freeze_list]\n",
        "    remove_list = [x - len(freeze_list) for x in remove_list]\n",
        "    remove_list += [x + molecule.num_orbitals - len(freeze_list)  for x in remove_list]\n",
        "    freeze_list += [x + molecule.num_orbitals for x in freeze_list]\n",
        "    ferOp = FermionicOperator(h1=molecule.one_body_integrals, h2=molecule.two_body_integrals)\n",
        "    ferOp, energy_shift = ferOp.fermion_mode_freezing(freeze_list)\n",
        "    num_spin_orbitals -= len(freeze_list)\n",
        "    num_particles -= len(freeze_list)\n",
        "    ferOp = ferOp.fermion_mode_elimination(remove_list)\n",
        "    num_spin_orbitals -= len(remove_list)\n",
        "    qubitOp = ferOp.mapping(map_type='parity', threshold=0.00000001)\n",
        "    qubitOp = Z2Symmetries.two_qubit_reduction(qubitOp, num_particles)\n",
        "    shift = energy_shift + repulsion_energy\n",
        "    return qubitOp, num_particles, num_spin_orbitals, shift\n",
        "\n",
        "#qubitOp, num_spin_orbitals, num_particles, qubit_reduction = compute_LiH_qubitOp(map_type = 'parity')\n",
        "\n",
        "provider = IBMQ.get_provider(hub='ibm-q')\n",
        "backend = Aer.get_backend('qasm_simulator')\n",
        "\n",
        "chip_name = 'ibmq_essex'\n",
        "device = provider.get_backend(chip_name)\n",
        "coupling_map = device.configuration().coupling_map\n",
        "noise_model = NoiseModel.from_backend(device.properties())\n",
        "basis_gates = noise_model.basis_gates\n",
        "\n",
        "quantum_instance = QuantumInstance(backend=backend, \n",
        "                                   shots=1000, \n",
        "                                   noise_model=noise_model, \n",
        "                                   coupling_map=coupling_map,\n",
        "                                   measurement_error_mitigation_cls=CompleteMeasFitter,\n",
        "                                   cals_matrix_refresh_period=30)\n",
        "\n",
        "distances = np.arange(1.5, 1.6, 0.01)\n",
        "exact_energies = []\n",
        "vqe_energies = []\n",
        "optimizer = SLSQP(maxiter=100)\n",
        "for dist in inter_dist:\n",
        "    qubitOp, num_particles, num_spin_orbitals, shift = compute_LiH_qubitOp(dist)\n",
        "    result = NumPyEigensolver(qubitOp).run()\n",
        "    exact_energies.append(np.real(result.eigenvalues) + shift)\n",
        "    initial_state = HartreeFock(\n",
        "        num_spin_orbitals,\n",
        "        num_particles,\n",
        "        qubit_mapping='parity'\n",
        "    ) \n",
        "    var_form = UCCSD(\n",
        "        num_orbitals=num_spin_orbitals,\n",
        "        num_particles=num_particles,\n",
        "        initial_state=initial_state,\n",
        "        qubit_mapping='parity'\n",
        "    )\n",
        "    \n",
        "    \n",
        "    # Run your VQE instance\n",
        "    vqe = VQE(qubitOp, var_form, optimizer, callback=store_intermediate_result)\n",
        "    ret = vqe.run(quantum_instance)\n",
        "    vqe_result = np.real(vqe.run(backend)['eigenvalue'] + shift)\n",
        "    vqe_energies.append(vqe_result)\n",
        "    \n",
        "    print(\"Interatomic Distance:\", np.round(dist, 2), \"VQE Result:\", vqe_result, \"Exact Energy:\", exact_energies[-1])\n",
        "\n",
        "exact_energies_COBYLA = []\n",
        "vqe_energies_COBYLA = []\n",
        "optimizer = COBYLA(maxiter=100)\n",
        "for dist in inter_dist:\n",
        "    qubitOp, num_particles, num_spin_orbitals, shift = compute_LiH_qubitOp(dist)\n",
        "    result = NumPyEigensolver(qubitOp).run()\n",
        "    exact_energies.append(np.real(result.eigenvalues) + shift)\n",
        "    initial_state = HartreeFock(\n",
        "        num_spin_orbitals,\n",
        "        num_particles,\n",
        "        qubit_mapping='parity'\n",
        "    ) \n",
        "    var_form = UCCSD(\n",
        "        num_orbitals=num_spin_orbitals,\n",
        "        num_particles=num_particles,\n",
        "        initial_state=initial_state,\n",
        "        qubit_mapping='parity'\n",
        "    )\n",
        "    \n",
        "    \n",
        "    # Run your VQE instance\n",
        "    vqe = VQE(qubitOp, var_form, optimizer, callback=store_intermediate_result)\n",
        "    ret = vqe.run(quantum_instance)\n",
        "    vqe_result = np.real(vqe.run(backend)['eigenvalue'] + shift)\n",
        "    vqe_energies.append(vqe_result)\n",
        "    \n",
        "    \n",
        "print(\"All energies have been calculated\")\n",
        "'''# Classically solve for the exact solution and use that as your reference value\n",
        "ref = exact_solver(qubitOp)\n",
        "'''\n",
        "# Now compare the results of different compositions of your VQE algorithm!\n",
        "plt.plot(distances, exact_energies, label=\"Exact Energy\")\n",
        "plt.plot(distances, vqe_energies, label=\"VQE Energy\")\n",
        "plt.xlabel('Atomic distance (Angstrom)')\n",
        "plt.ylabel('Energy')\n",
        "plt.legend()\n",
        "plt.show()"
      ],
      "execution_count": null,
      "outputs": []
    },
    {
      "cell_type": "code",
      "metadata": {
        "id": "O1uHiReQ4KG_"
      },
      "source": [
        "plt.plot(distances, exact_energies, label=\"Exact Energy\")\n",
        "plt.plot(distances, vqe_energies, label=\"VQE Energy\")\n",
        "plt.xlabel('Atomic distance (Angstrom)')\n",
        "plt.ylabel('Energy')\n",
        "plt.legend()\n",
        "plt.show()"
      ],
      "execution_count": null,
      "outputs": []
    },
    {
      "cell_type": "code",
      "metadata": {
        "id": "IY3s0BH54KHB"
      },
      "source": [
        "import qiskit.tools.jupyter\n",
        "%qiskit_version_table\n",
        "%qiskit_copyright"
      ],
      "execution_count": null,
      "outputs": []
    },
    {
      "cell_type": "code",
      "metadata": {
        "id": "bafYhVvO4KHD"
      },
      "source": [
        ""
      ],
      "execution_count": null,
      "outputs": []
    },
    {
      "cell_type": "code",
      "metadata": {
        "id": "_wY6gRts4KHI"
      },
      "source": [
        ""
      ],
      "execution_count": null,
      "outputs": []
    },
    {
      "cell_type": "code",
      "metadata": {
        "id": "BCz1dTQf4KHK"
      },
      "source": [
        ""
      ],
      "execution_count": null,
      "outputs": []
    }
  ]
}